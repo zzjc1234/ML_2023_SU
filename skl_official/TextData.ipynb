{
 "cells": [
  {
   "cell_type": "markdown",
   "metadata": {},
   "source": [
    "# Process Text Data\n",
    "\n",
    "## Basic Setup\n",
    "\n",
    "If you use anaconda, it highly possible that you can't find the directory. It's highly recommended (by me) to directly go to [sklearn's github page](https://github.com/scikit-learn/scikit-learn/tree/main/doc/tutorial/text_analytics) and clone the repo. The detailed instruction can be found in [here](https://scikit-learn.org/stable/tutorial/text_analytics/working_with_text_data.html)"
   ]
  }
 ],
 "metadata": {
  "language_info": {
   "name": "python"
  },
  "orig_nbformat": 4
 },
 "nbformat": 4,
 "nbformat_minor": 2
}
