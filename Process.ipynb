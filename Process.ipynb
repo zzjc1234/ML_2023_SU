{
 "cells": [
  {
   "attachments": {},
   "cell_type": "markdown",
   "metadata": {},
   "source": [
    "# Process\n",
    "\n",
    "This document shows the basic process of machine learning.\n",
    "\n",
    "---\n",
    "\n",
    "## Data processing\n",
    "\n",
    "- import data\n"
   ]
  },
  {
   "cell_type": "code",
   "execution_count": null,
   "metadata": {},
   "outputs": [],
   "source": [
    "import pandas as pd\n",
    "# save filepath to variable for easier access\n",
    "file_path = '../data.csv'\n",
    "# read the data and store data in DataFrame titled melbourne_data\n",
    "data = pd.read_csv(file_path)"
   ]
  },
  {
   "attachments": {},
   "cell_type": "markdown",
   "metadata": {},
   "source": [
    "- view data"
   ]
  },
  {
   "cell_type": "code",
   "execution_count": null,
   "metadata": {},
   "outputs": [],
   "source": [
    "# print a summary of the data\n",
    "data.describe()\n",
    "# print first 5 rows of the data\n",
    "data.head()\n",
    "# print the tags of the \n",
    "data.columns\n",
    "# print the \n"
   ]
  },
  {
   "cell_type": "code",
   "execution_count": null,
   "metadata": {},
   "outputs": [],
   "source": [
    "melbourne_data = data.dropna(axis=0)"
   ]
  }
 ],
 "metadata": {
  "language_info": {
   "name": "python"
  },
  "orig_nbformat": 4
 },
 "nbformat": 4,
 "nbformat_minor": 2
}
