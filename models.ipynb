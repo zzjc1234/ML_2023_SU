{
 "cells": [
  {
   "attachments": {},
   "cell_type": "markdown",
   "metadata": {},
   "source": [
    "# Models based on sklearn\n",
    "\n",
    "Referring to  \n",
    "[Python Data Science Handbook](https://jakevdp.github.io/PythonDataScienceHandbook)  \n",
    "[Official Document](https://scikit-learn.org/stable/user_guide.html)  \n",
    "\n",
    "---"
   ]
  },
  {
   "attachments": {},
   "cell_type": "markdown",
   "metadata": {},
   "source": [
    "## basic sklearn commands "
   ]
  },
  {
   "attachments": {},
   "cell_type": "markdown",
   "metadata": {},
   "source": [
    "- datasets"
   ]
  },
  {
   "cell_type": "code",
   "execution_count": null,
   "metadata": {},
   "outputs": [],
   "source": [
    "from sklearn import datasets\n",
    "iris = datasets.load_iris()"
   ]
  },
  {
   "cell_type": "code",
   "execution_count": null,
   "metadata": {},
   "outputs": [],
   "source": [
    "iris.target"
   ]
  },
  {
   "cell_type": "code",
   "execution_count": null,
   "metadata": {},
   "outputs": [],
   "source": [
    "iris.data"
   ]
  },
  {
   "attachments": {},
   "cell_type": "markdown",
   "metadata": {},
   "source": [
    "- multiclass classifier"
   ]
  },
  {
   "attachments": {},
   "cell_type": "markdown",
   "metadata": {},
   "source": [
    "## Supervised learning\n"
   ]
  },
  {
   "attachments": {},
   "cell_type": "markdown",
   "metadata": {},
   "source": [
    "### Regression -- continuous\n",
    "\n",
    "- 判断线性or非线性\n",
    "  - 残差图\n",
    "  - 散点图\n",
    "  - 训练多个模型看准确率\n",
    "- 回归指标  \n",
    "  **损失函数常用 MAE、MSE、RMSE**   \n",
    "  **性能评估指标常用R-square**（R-square就是在用均值预测的标准下衡量模型的预测性能）\n",
    "  - 越接近0越好\n",
    "    - SSE (残差平方和)  $$\\sum{|y_i-\\hat{y_i}|^2}$$\n",
    "    - MAE (平均绝对误差)  $$\\sum{\\frac{|y_i-\\hat{y_i}|}{n}}$$\n",
    "    - MSE (均方误差)  $$\\frac{SSE}{n}=\\sum{\\frac{|y_i-\\hat{y_i}|^2}{n}}$$\n",
    "    - RMSE (均方根误差) $$\\sum{\\sqrt{\\frac{|y_i-\\hat{y_i}|^2}{n}}}$$\n",
    "  - 越接近1越好 \n",
    "    - R-squared (确定系数)\n",
    "      - SSR：预测数据与原始均值的平方和\n",
    "      - SST（残差）：原始数据与原始均值的平方和\n",
    "      - SSE：预测数据与原始数据的平方和\n",
    "    - Adjusted R-squared  (调整R方)  \n",
    "\n",
    "    只要增加了更多的变量，R-squared 要么保持不变，要么增加。  \n",
    "    如果增加更多无意义的变量，Adjusted R-squared 会下降；如果加入的特征值是显著的，则adjusted R-squared也会上升。  \n",
    "    在单变量线性回归中，R-squared和adjusted R-squared是一致的。  \n",
    "\n",
    "    **结论**：如果单变量线性回归，则使用 R-squared评估；多变量，则使用adjusted R-squared。\n"
   ]
  },
  {
   "cell_type": "code",
   "execution_count": null,
   "metadata": {},
   "outputs": [],
   "source": [
    "from sklearn.metrics import mean_squared_error , r2_score"
   ]
  },
  {
   "attachments": {},
   "cell_type": "markdown",
   "metadata": {},
   "source": [
    "#### Linear Regression  \n",
    "[sklearn线性回归示例代码](https://zhuanlan.zhihu.com/p/165493873)\n",
    "- 标准线性回归\n",
    "  - 特征之间相互独立 --> or, 多重共线性\n",
    "- 岭回归\n",
    "  - 可以解决特征数>样本量的问题，有效防止过拟合\n",
    "  - 可以处理高度相关的数据，变量间存在共线性（最小二乘回归得到的系数不稳定，方差很大）\n",
    "- lasso回归  \n",
    "    lasso 容易使得部分权重取 0，所以可以用其做 feature selection，lasso 的名字so即为 selection operator。权重为 0 的 feature 对回归问题没有贡献，直接去掉权重为 0 的 feature，模型的输出值不变。（参考[lasso回归和岭回归](https://www.cnblogs.com/wuliytTaotao/p/10837533.html)）  \n",
    "    lasso 更容易使得权重变为 0，而 ridge 更容易使得权重接近 0。\n"
   ]
  },
  {
   "attachments": {},
   "cell_type": "markdown",
   "metadata": {},
   "source": [
    "\n",
    "##### 标准线性回归\n",
    "- 语法：\n",
    "    ```python\n",
    "    from sklearn.linear_model import LinearRegression\n",
    "    ```\n",
    "- Parameters:  \n",
    "\n",
    "    **fit_intercept**：有无截距  \n",
    "    **copy_X**：True赋值，False覆写  \n",
    "    **normalize**：是否归一化  \n",
    "    **n_jobs**：default=1，使用CPU数，-1为使用所有CPU  \n",
    "\n",
    "- Attributes:  \n",
    "\n",
    "    **coef_**：如果label有两个，即y值有两列，那么是一个2D的array  \n",
    "    **intercept_**：截距  \n",
    "\n",
    "- Methods:\n",
    "\n",
    "    **fit(X, y, sample_weight)**: 训练模型  \n",
    "    **get_params(X, y, sample_weight)**: 获取参数  \n",
    "    **set_params(para)**: 设置参数  \n",
    "    **predict(X)**：预测数据  \n",
    "    **score(X)**：评估，得到R方  \n"
   ]
  },
  {
   "attachments": {},
   "cell_type": "markdown",
   "metadata": {},
   "source": [
    "##### Ridge Regression & Lasso Regression\n",
    "- 语法：\n",
    "    ```python\n",
    "    from sklearn.linear_model import Ridge\n",
    "    from sklearn.linear_model import Lasso\n",
    "    from sklearn.linear_model import RidgeCV\n",
    "    from sklearn.linear_model import LassoCV\n",
    "    ```\n",
    "- Parameters:  \n",
    "\n",
    "    **alpha/alphas(CV)**：正则项系数，初始值为1，数值越大，则对复杂模型的惩罚力度越大。 \n",
    "    **cv**： cross-validation generator，默认留一。\n",
    "    **max_iter**：最大迭代次数。  \n",
    "    **fit_intercept**：有无截距  \n",
    "    **copy_X**：True赋值，False覆写  \n",
    "    **normalize**：是否归一化  \n",
    "    **n_jobs**：default=1，使用CPU数，-1为使用所有CPU  \n",
    "\n",
    "    更多参数见[sklearn线性回归参数](https://blog.csdn.net/VariableX/article/details/107166602)\n",
    "\n",
    "- 调参方法：  \n",
    "\n",
    "  1. 给定alpha较小的值，例如0.1。\n",
    "  2. 根据验证集准确率以10倍为单位增大或者减小参数值。[0.001, 0.01, 0.1, 1, 10, 100]\n",
    "  3. 在找到合适的数量级后，在此数量级上微调。  \n",
    "    <br>\n",
    "- Attributes (CV)  \n",
    "    **alpha_**  \n",
    "    **best_score_**"
   ]
  },
  {
   "attachments": {},
   "cell_type": "markdown",
   "metadata": {},
   "source": [
    "#### "
   ]
  },
  {
   "attachments": {},
   "cell_type": "markdown",
   "metadata": {},
   "source": [
    "### Classification -- discrete"
   ]
  },
  {
   "attachments": {},
   "cell_type": "markdown",
   "metadata": {},
   "source": []
  }
 ],
 "metadata": {
  "kernelspec": {
   "display_name": "Python 3",
   "language": "python",
   "name": "python3"
  },
  "language_info": {
   "codemirror_mode": {
    "name": "ipython",
    "version": 3
   },
   "file_extension": ".py",
   "mimetype": "text/x-python",
   "name": "python",
   "nbconvert_exporter": "python",
   "pygments_lexer": "ipython3",
   "version": "3.10.9"
  },
  "orig_nbformat": 4
 },
 "nbformat": 4,
 "nbformat_minor": 2
}
