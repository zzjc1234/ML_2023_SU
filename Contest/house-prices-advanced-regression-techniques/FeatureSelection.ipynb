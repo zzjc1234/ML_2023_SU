{
 "cells": [
  {
   "cell_type": "code",
   "execution_count": null,
   "metadata": {},
   "outputs": [],
   "source": [
    "# import data\n",
    "import pandas as pd\n",
    "train_path = 'train.csv'\n",
    "train_data = pd.read_csv(train_path)\n",
    "train_data = pd.get_dummies(train_data)\n",
    "X = train_data.drop('SalePrice', axis=1)\n",
    "X = X.dropna(axis=1)\n",
    "y=train_data[\"SalePrice\"]"
   ]
  },
  {
   "cell_type": "code",
   "execution_count": null,
   "metadata": {},
   "outputs": [],
   "source": [
    "from sklearn.tree import DecisionTreeRegressor as dt\n",
    "from sklearn.ensemble import RandomForestRegressor as rf\n",
    "from sklearn.feature_selection import RFE\n",
    "from sklearn import model_selection"
   ]
  },
  {
   "attachments": {},
   "cell_type": "markdown",
   "metadata": {},
   "source": [
    "## 递归特征消除"
   ]
  },
  {
   "cell_type": "code",
   "execution_count": null,
   "metadata": {},
   "outputs": [],
   "source": [
    "# select 100 feature\n",
    "selector = RFE(estimator = rf(), n_features_to_select=100,step=10)\n",
    "X_s = selector.fit_transform(X,y)\n",
    "X_s.shape"
   ]
  },
  {
   "attachments": {},
   "cell_type": "markdown",
   "metadata": {},
   "source": [
    "- 检验特征选择效果"
   ]
  },
  {
   "cell_type": "code",
   "execution_count": null,
   "metadata": {},
   "outputs": [],
   "source": [
    "# compare effect\n",
    "from sklearn.model_selection import KFold, cross_val_score"
   ]
  },
  {
   "cell_type": "code",
   "execution_count": null,
   "metadata": {},
   "outputs": [],
   "source": [
    "model = rf(criterion='squared_error', max_depth=None, max_leaf_nodes=None, random_state=2)\n",
    "k_fold = KFold(n_splits=5, shuffle=True, random_state=42)\n",
    "mae_scores = cross_val_score(model, X, y, scoring='neg_mean_absolute_error', cv=k_fold)\n",
    "print(mae_scores)\n",
    "absolute_mae_scores = -mae_scores\n",
    "average_mae = absolute_mae_scores.mean()\n",
    "print(\"Average MAE:\", average_mae)"
   ]
  },
  {
   "cell_type": "code",
   "execution_count": null,
   "metadata": {},
   "outputs": [],
   "source": [
    "model = rf(criterion='squared_error', max_depth=None, max_leaf_nodes=None, random_state=2)\n",
    "k_fold = KFold(n_splits=5, shuffle=True, random_state=42)\n",
    "mae_scores = cross_val_score(model, X_s, y, scoring='neg_mean_absolute_error', cv=k_fold)\n",
    "print(mae_scores)\n",
    "absolute_mae_scores = -mae_scores\n",
    "average_mae = absolute_mae_scores.mean()\n",
    "print(\"Average MAE:\", average_mae)"
   ]
  },
  {
   "attachments": {},
   "cell_type": "markdown",
   "metadata": {},
   "source": [
    "## 交叉验证递归特性消除"
   ]
  },
  {
   "cell_type": "code",
   "execution_count": null,
   "metadata": {},
   "outputs": [],
   "source": [
    "# CV -> select ? features\n",
    "from sklearn.model_selection import KFold\n",
    "from sklearn.feature_selection import RFECV\n",
    "rfecv = RFECV(estimator = rf(), step = 1, min_features_to_select = 1, cv = KFold(5), scoring = \"r2\")\n",
    "rfecv.fit(X,y)\n",
    "print(rfecv.n_features_)"
   ]
  },
  {
   "cell_type": "code",
   "execution_count": null,
   "metadata": {},
   "outputs": [],
   "source": [
    "import matplotlib.pyplot as plt\n",
    "plt.figure\n",
    "plt.xlabel(\"Number of feature selected\")\n",
    "plt.ylabel(\"Cross validation score\")\n",
    "plt.plot(range(1,len(rfecv.cv_results_[\"mean_test_score\"])+1,1),rfecv.cv_results_[\"mean_test_score\"])"
   ]
  },
  {
   "cell_type": "code",
   "execution_count": null,
   "metadata": {},
   "outputs": [],
   "source": [
    "import joblib"
   ]
  },
  {
   "cell_type": "code",
   "execution_count": null,
   "metadata": {},
   "outputs": [],
   "source": [
    "joblib.dump(rfecv,'rfecv_rf_111.pkl',compress = 3)"
   ]
  },
  {
   "cell_type": "code",
   "execution_count": null,
   "metadata": {},
   "outputs": [],
   "source": [
    "rel_rfecv = joblib.load('rfecv_rf_111.pkl')"
   ]
  }
 ],
 "metadata": {
  "kernelspec": {
   "display_name": "Python 3",
   "language": "python",
   "name": "python3"
  },
  "language_info": {
   "codemirror_mode": {
    "name": "ipython",
    "version": 3
   },
   "file_extension": ".py",
   "mimetype": "text/x-python",
   "name": "python",
   "nbconvert_exporter": "python",
   "pygments_lexer": "ipython3",
   "version": "3.11.4"
  },
  "orig_nbformat": 4
 },
 "nbformat": 4,
 "nbformat_minor": 2
}
