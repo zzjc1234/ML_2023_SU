{
 "cells": [
  {
   "cell_type": "markdown",
   "metadata": {},
   "source": [
    "# Gaussian Process\n",
    "\n",
    "Gaussian Processes (GP) are a generic supervised learning method designed to solve regression and probabilistic classification problems.\n",
    "\n",
    "---\n",
    "\n",
    "## Advantage and Disadvantage\n",
    "\n",
    "- Advantage\n",
    "    - The prediction interpolates the observations (at least for regular kernels).\n",
    "    - The prediction is probabilistic (Gaussian) so that one can compute empirical confidence intervals and decide based on those if one should refit (online fitting, adaptive fitting) the prediction in some region of interest.\n",
    "    - Versatile: different kernels can be specified. Common kernels are provided, but it is also possible to specify custom kernels.\n",
    "- Disadvantage\n",
    "    - They are not sparse, i.e., they use the whole samples/features information to perform the prediction.\n",
    "    - They lose efficiency in high dimensional spaces – namely when the number of features exceeds a few dozens.\n",
    "\n"
   ]
  }
 ],
 "metadata": {
  "kernelspec": {
   "display_name": "base",
   "language": "python",
   "name": "python3"
  },
  "language_info": {
   "name": "python",
   "version": "3.11.4"
  },
  "orig_nbformat": 4
 },
 "nbformat": 4,
 "nbformat_minor": 2
}
